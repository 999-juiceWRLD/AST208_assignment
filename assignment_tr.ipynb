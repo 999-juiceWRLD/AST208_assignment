{
 "cells": [
  {
   "cell_type": "markdown",
   "metadata": {},
   "source": [
    "# Çözüm\n",
    "\n",
    "2010LP33 asteroidi için $a = 2.55$ $AB$, $e=0,42$, $\\tau=2458344$, 2343327492 gün - 13 Ağustos 2018 17:37:28, $P=1491.04$ gün veriliyor. Yörüngesi tanımlı asteroidin enberi geçişinden bu yana heliosentrik uzaklığını ve gerçek anomalisini ($\\nu$) bulunuz.\n",
    "\n",
    "Heliosentrik uzaklık, odaklarının birinde Güneş'in bulunduğu eliptik yörünge takip eden bir asteroidin $r$ uzaklığı\n",
    "$$ r = \\frac{h^2}{\\mu}\\frac{1}{1 + ecos\\nu}$$\n",
    "bulunmalıdır.\n",
    "\n",
    "bilinmeyenler, $h$ ve $\\nu$."
   ]
  },
  {
   "cell_type": "markdown",
   "metadata": {},
   "source": [
    "## Önemli Formüller\n",
    "\n",
    "$$ r = a(1-ecosE) $$\n",
    "$$ \\tan{\\frac{\\nu}{2}} = \\sqrt{\\frac{1 + e}{1 - e}} \\tan{\\frac{E}{2}} $$\n",
    "$$ M = E - esinE = \\frac{2\\pi}{P}(t - \\tau) $$\n",
    "$$ P^2 = \\frac{4\\pi^2a^3}{\\mu}$$\n",
    "\n",
    "$\\mu_{sun} = 1.327 \\times 10^{11} \\frac{km^3}{s^2}$"
   ]
  },
  {
   "cell_type": "markdown",
   "metadata": {},
   "source": [
    "Çözüme giden adımlar:\n",
    "\n",
    "1. Ortalama anomaliyi $M_e$ bul.\n",
    "2. Kepler denklemini ($E - esinE$) çöz ve dış anomaliyi ($E$) bul. Analitik çözümü bulunmayan bu denklemin çözümünde Newton-Raphson nümerik yöntemi kullanılacak.\n",
    "3. Tanjantlı fonksiyonda yerine koyarak gerçek anomaliyi $\\nu$ bul."
   ]
  },
  {
   "cell_type": "code",
   "execution_count": 1,
   "metadata": {},
   "outputs": [],
   "source": [
    "import numpy as np\n",
    "import pandas as pd"
   ]
  },
  {
   "cell_type": "code",
   "execution_count": 2,
   "metadata": {},
   "outputs": [],
   "source": [
    "a = 2.55        # yarı-büyük eksen [AB]\n",
    "e = 0.42        # dışmerkezlik\n",
    "tau = 2_458_344 # enberiden geçme zamanı\n",
    "p = 1491.04     # yörünge dönemi (gün)\n",
    "t = 2_343_327_492  # gün"
   ]
  },
  {
   "cell_type": "markdown",
   "metadata": {},
   "source": [
    "$P=1491.04$ gün verildiği için önce bu değeri ve $t$'yi $[sn]$ birimine, $a$ da astronomik birim uzaklığında verildiği için bunu da $[km]$ birimine çevirelim."
   ]
  },
  {
   "cell_type": "code",
   "execution_count": 3,
   "metadata": {},
   "outputs": [],
   "source": [
    "p = p * 24 * 60 * 60\n",
    "t = t * 24 * 60 * 60\n",
    "a = 2.55 * 149_597_871 # 1 AB = 149,597,871 km"
   ]
  },
  {
   "cell_type": "code",
   "execution_count": 4,
   "metadata": {},
   "outputs": [
    {
     "name": "stdout",
     "output_type": "stream",
     "text": [
      "128825856.0\n",
      "381474571.04999995\n"
     ]
    }
   ],
   "source": [
    "print(p)\n",
    "print(a)"
   ]
  },
  {
   "cell_type": "code",
   "execution_count": 5,
   "metadata": {},
   "outputs": [],
   "source": [
    "def get_mean_anomaly(t, tau=tau):\n",
    "    return (2 * np.pi / p) * (t - tau)"
   ]
  },
  {
   "cell_type": "code",
   "execution_count": 6,
   "metadata": {},
   "outputs": [
    {
     "data": {
      "text/plain": [
       "9874691.9525087"
      ]
     },
     "execution_count": 6,
     "metadata": {},
     "output_type": "execute_result"
    }
   ],
   "source": [
    "mean_anomaly = get_mean_anomaly(t)\n",
    "mean_anomaly"
   ]
  },
  {
   "cell_type": "markdown",
   "metadata": {},
   "source": [
    "Ortalama anomali $M_e$ teoride, $[0, 2\\pi]$ aralığında olur, fakat $t$ değeri çok büyükse $M_e$ de büyük çıkabilir. Haliyle sonucu uygun aralıkta normalize etmek gerekecektir."
   ]
  },
  {
   "cell_type": "code",
   "execution_count": 7,
   "metadata": {},
   "outputs": [],
   "source": [
    "normalized_mean_anomaly = mean_anomaly % (2 * np.pi)\n",
    "mean_anomaly = normalized_mean_anomaly"
   ]
  },
  {
   "cell_type": "code",
   "execution_count": 8,
   "metadata": {},
   "outputs": [
    {
     "data": {
      "text/plain": [
       "0.22463341834917117"
      ]
     },
     "execution_count": 8,
     "metadata": {},
     "output_type": "execute_result"
    }
   ],
   "source": [
    "mean_anomaly"
   ]
  },
  {
   "cell_type": "markdown",
   "metadata": {},
   "source": [
    "Burada $M_e$ radyan biriminde\n",
    "$$ M_e = 0.22463341834917117$$"
   ]
  },
  {
   "cell_type": "markdown",
   "metadata": {},
   "source": [
    "## Newton-Raphson Metodu\n",
    "\n",
    "Newton-Rapshon metodu, kısaca $f(E) = E - esinE$ ve $f'(E) = 1 - ecosE$ olmak üzere\n",
    "\n",
    "$$ M < \\pi, E = M + \\frac{e}{2}$$\n",
    "$$ M > \\pi, E = M - \\frac{e}{2}$$\n",
    "\n",
    "başlangıç tahminleri ile verilen $E_0$ değerinden başlayarak\n",
    "\n",
    "$$ E_{i+1} = E_i - \\frac{E_i-esinE_i-M}{1-ecosE_i}$$\n",
    "\n",
    "iterasyonunu gerçekleştiren yönteme denir. Burada\n",
    "\n",
    "$$ E_{i+1} = E_i - \\frac{f(E_i)}{f'(E_i)} $$\n",
    "\n",
    "kontrolü yapılarak\n",
    "\n",
    "$$ \\lvert \\frac{f(x_i)}{f'(x_i)} \\rvert$$\n",
    "\n",
    "ifadesi, $10^{-6}$ sayısından büyük ya da küçük olana kadar iterasyon yapılır."
   ]
  },
  {
   "cell_type": "markdown",
   "metadata": {},
   "source": [
    "$$ M > \\pi, E_0 = M - \\frac{e}{2} $$\n",
    "olsun. O halde"
   ]
  },
  {
   "cell_type": "code",
   "execution_count": 9,
   "metadata": {},
   "outputs": [],
   "source": [
    "e0 = mean_anomaly - (e / 2)\n",
    "tolerance_value = 1e-6"
   ]
  },
  {
   "cell_type": "code",
   "execution_count": 10,
   "metadata": {},
   "outputs": [],
   "source": [
    "def iterate_newton(element, tolerance=tolerance_value, max_iteration_threshold=100):\n",
    "    i = 1\n",
    "    while (i <= max_iteration_threshold):\n",
    "        f = element - (e * np.sin(element)) - mean_anomaly\n",
    "        f_derivative = 1 - (e * np.cos(element))\n",
    "        control = f / f_derivative\n",
    "        \n",
    "        print(f\"{i:2d}. step; E: {element:10.6f}; control: {np.abs(control):10.6e}\")\n",
    "        \n",
    "        element = element - control\n",
    "        if np.abs(control) < tolerance:\n",
    "            break\n",
    "        i += 1\n",
    "    return element"
   ]
  },
  {
   "cell_type": "markdown",
   "metadata": {},
   "source": [
    "Yukarıdaki hücrede `control` adlı değişken değişim miktarını belirten $ \\frac{f(E_i)}{f'(E_i)} $ oranını verir. Bu değişken küçüldükçe her iterasyonda değişim miktarı da azalır (çözüme yakınsar)."
   ]
  },
  {
   "cell_type": "code",
   "execution_count": 11,
   "metadata": {},
   "outputs": [
    {
     "name": "stdout",
     "output_type": "stream",
     "text": [
      " 1. step; E:   0.014633; control: 3.726363e-01\n",
      " 2. step; E:   0.387270; control: 6.575604e-03\n",
      " 3. step; E:   0.380694; control: 5.590785e-06\n",
      " 4. step; E:   0.380689; control: 3.997812e-12\n"
     ]
    }
   ],
   "source": [
    "excentric_anomaly = iterate_newton(e0)"
   ]
  },
  {
   "cell_type": "code",
   "execution_count": 12,
   "metadata": {},
   "outputs": [
    {
     "data": {
      "text/plain": [
       "np.float64(0.38068853361942634)"
      ]
     },
     "execution_count": 12,
     "metadata": {},
     "output_type": "execute_result"
    }
   ],
   "source": [
    "excentric_anomaly"
   ]
  },
  {
   "cell_type": "markdown",
   "metadata": {},
   "source": [
    "$E$'den $\\nu$'ye geçiş ise\n",
    "$$ E = 2\\arctan({\\sqrt{\\frac{1-e}{1+e}}\\tan{\\frac{\\nu}{2}}}) $$\n",
    "$$ \\nu = 2\\arctan({\\sqrt{\\frac{1+e}{1-e}}\\tan{\\frac{E}{2}}}) $$\n",
    "bağıntıları yardımıyla yapılır."
   ]
  },
  {
   "cell_type": "code",
   "execution_count": 13,
   "metadata": {},
   "outputs": [],
   "source": [
    "square_root = np.sqrt((1+e) / (1-e))\n",
    "true_anomaly = 2 * np.arctan(square_root * np.tan(excentric_anomaly / 2))"
   ]
  },
  {
   "cell_type": "code",
   "execution_count": 14,
   "metadata": {},
   "outputs": [
    {
     "data": {
      "text/plain": [
       "np.float64(0.5856296459366132)"
      ]
     },
     "execution_count": 14,
     "metadata": {},
     "output_type": "execute_result"
    }
   ],
   "source": [
    "true_anomaly"
   ]
  },
  {
   "cell_type": "code",
   "execution_count": 15,
   "metadata": {},
   "outputs": [
    {
     "data": {
      "text/plain": [
       "np.float64(33.55410706990865)"
      ]
     },
     "execution_count": 15,
     "metadata": {},
     "output_type": "execute_result"
    }
   ],
   "source": [
    "true_anomaly_deg = np.rad2deg(true_anomaly)\n",
    "true_anomaly_deg"
   ]
  },
  {
   "cell_type": "markdown",
   "metadata": {},
   "source": [
    "Sonuç olarak\n",
    "$$ \\nu = 33.55^\\circ $$"
   ]
  },
  {
   "cell_type": "code",
   "execution_count": 16,
   "metadata": {},
   "outputs": [
    {
     "data": {
      "text/plain": [
       "np.float64(12.60507149287811)"
      ]
     },
     "execution_count": 16,
     "metadata": {},
     "output_type": "execute_result"
    }
   ],
   "source": [
    "np.rad2deg(0.22)"
   ]
  },
  {
   "cell_type": "markdown",
   "metadata": {},
   "source": [
    "## Heliosentrik Uzaklık\n",
    "\n",
    "$$ r = a(1 - cosE) $$"
   ]
  },
  {
   "cell_type": "code",
   "execution_count": 17,
   "metadata": {},
   "outputs": [],
   "source": [
    "def get_heliocentric_distance(excentric_anomaly):\n",
    "    return a * (1 - np.cos(excentric_anomaly))"
   ]
  },
  {
   "cell_type": "code",
   "execution_count": 18,
   "metadata": {},
   "outputs": [
    {
     "data": {
      "text/plain": [
       "np.float64(27310136.76399116)"
      ]
     },
     "execution_count": 18,
     "metadata": {},
     "output_type": "execute_result"
    }
   ],
   "source": [
    "get_heliocentric_distance(excentric_anomaly)"
   ]
  },
  {
   "cell_type": "code",
   "execution_count": null,
   "metadata": {},
   "outputs": [],
   "source": []
  }
 ],
 "metadata": {
  "kernelspec": {
   "display_name": ".venv",
   "language": "python",
   "name": "python3"
  },
  "language_info": {
   "codemirror_mode": {
    "name": "ipython",
    "version": 3
   },
   "file_extension": ".py",
   "mimetype": "text/x-python",
   "name": "python",
   "nbconvert_exporter": "python",
   "pygments_lexer": "ipython3",
   "version": "3.13.3"
  }
 },
 "nbformat": 4,
 "nbformat_minor": 2
}
